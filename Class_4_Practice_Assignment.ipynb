{
 "cells": [
  {
   "cell_type": "markdown",
   "metadata": {
    "id": "8rksu2_jMVjQ"
   },
   "source": [
    "1) A company decided to give bonus of 5% to employee if his/her year of service is more than 5 years.\n",
    "\n",
    "Ask user for their salary and year of service and print the net bonus amount."
   ]
  },
  {
   "cell_type": "code",
   "execution_count": 1,
   "metadata": {
    "id": "_GRPHPiLMVjX"
   },
   "outputs": [
    {
     "name": "stdout",
     "output_type": "stream",
     "text": [
      "--------Welcome to XYZ Company---------\n",
      "Enter your name: Usman\n",
      "Hello Mr.  Usman\n",
      "Enter your salary: 3000000\n",
      "Enter your joining year: 2016\n",
      "Congratulations! You are eligible for bonus\n",
      "Your bonus is:  150000.0\n"
     ]
    }
   ],
   "source": [
    "#Type your code here\n",
    "print(\"--------Welcome to XYZ Company---------\")\n",
    "Name = input(\"Enter your name: \")\n",
    "print(\"Hello Mr. \", Name)\n",
    "Salary = int(input(\"Enter your salary: \"))\n",
    "Year_of_Joining = int(input(\"Enter your joining year: \"))\n",
    "Year_of_Service = 2022 - Year_of_Joining\n",
    "if Year_of_Service >= 5:\n",
    "    print(\"Congratulations! You are eligible for bonus\")\n",
    "    Bonus = (Salary/100)*5\n",
    "    print(\"Your bonus is: \", Bonus)\n",
    "else:\n",
    "    print(\"Sorry! You are not eligible for bonus\")"
   ]
  },
  {
   "cell_type": "markdown",
   "metadata": {
    "id": "iXt5RVcjMVja"
   },
   "source": [
    "2) Write a program to check whether a person is eligible for voting or not. (accept age from user)"
   ]
  },
  {
   "cell_type": "code",
   "execution_count": 2,
   "metadata": {
    "id": "jXVCvia3MVjh"
   },
   "outputs": [
    {
     "name": "stdout",
     "output_type": "stream",
     "text": [
      "--------Welcome to Voting Management System---------\n",
      "Enter your name: Usman\n",
      "Hello! Mr.  Usman\n",
      "Enter your age: 20\n",
      "Congratulations! You are eligible for vote\n"
     ]
    }
   ],
   "source": [
    "#Type your code here\n",
    "print(\"--------Welcome to Voting Management System---------\")\n",
    "Name = input(\"Enter your name: \")\n",
    "print(\"Hello! Mr. \", Name)\n",
    "Age = int(input(\"Enter your age: \"))\n",
    "if Age >= 18:\n",
    "    print(\"Congratulations! You are eligible for vote\")\n",
    "else:\n",
    "    print(\"Sorry! You are not eligible for vote\")"
   ]
  },
  {
   "cell_type": "markdown",
   "metadata": {
    "id": "IkNM7QpCMVjj"
   },
   "source": [
    "3) Write a program to check whether a number entered by user is even or odd."
   ]
  },
  {
   "cell_type": "code",
   "execution_count": 2,
   "metadata": {
    "id": "-GxviwByMVjl"
   },
   "outputs": [
    {
     "name": "stdout",
     "output_type": "stream",
     "text": [
      "Enter a number: 4\n",
      "4 is Even\n"
     ]
    }
   ],
   "source": [
    "#Type your code here\n",
    "Num = int(input(\"Enter a number: \"))\n",
    "if (Num%2) ==0:\n",
    "    print(Num, \"is Even\")\n",
    "else:\n",
    "    print(Num, \"is Odd\")"
   ]
  },
  {
   "cell_type": "markdown",
   "metadata": {
    "id": "_jEHjkfdMVjm"
   },
   "source": [
    "4) Write a program to check whether a number is divisible by 7 or not.\n",
    "Show Answer"
   ]
  },
  {
   "cell_type": "code",
   "execution_count": 3,
   "metadata": {
    "id": "IRNXyG1GMVjo"
   },
   "outputs": [
    {
     "name": "stdout",
     "output_type": "stream",
     "text": [
      "Enter a number: 50\n",
      "50 is not divisible by 7\n"
     ]
    }
   ],
   "source": [
    "#Type your code here\n",
    "Num = int(input(\"Enter a number: \"))\n",
    "if (Num%7) ==0:\n",
    "    print(Num, \"is divisible by 7\")\n",
    "else:\n",
    "    print(Num, \"is not divisible by 7\")"
   ]
  },
  {
   "cell_type": "markdown",
   "metadata": {
    "id": "XxfyVe4kMVjp"
   },
   "source": [
    "5) Write a program to display \n",
    "\n",
    "\"Hello\" if a number entered by user is a multiple of five , otherwise print \"Bye\"."
   ]
  },
  {
   "cell_type": "code",
   "execution_count": 4,
   "metadata": {
    "id": "Ixnz4R4TMVjr"
   },
   "outputs": [
    {
     "name": "stdout",
     "output_type": "stream",
     "text": [
      "Enter a number: 20\n",
      "Hello\n"
     ]
    }
   ],
   "source": [
    "#Type your code here\n",
    "Num = int(input(\"Enter a number: \"))\n",
    "if (Num%5) ==0:\n",
    "    print(\"Hello\")\n",
    "else:\n",
    "    print(\"Bye!\")"
   ]
  },
  {
   "cell_type": "markdown",
   "metadata": {
    "id": "qfzRUUwOMVjs"
   },
   "source": [
    "6) Write a program to calculate the electricity bill (accept number of unit from user) according to the following criteria:\n",
    "\n",
    "   Unit           |                         Price  \n",
    "\n",
    "uptp 100 units    |                       no charge\n",
    "\n",
    "Next 200 units    |                       Rs 5 per unit\n",
    "\n",
    "After 200 units   |                  Rs 10 per unit\n",
    "\n",
    "(For example if input unit is 350 than total bill amount is Rs.2000\n",
    "\n",
    "(For example if input unit is 97 than total bill amount is Rs.0\n",
    "\n",
    "(For example if input unit is 150 than total bill amount is Rs.250"
   ]
  },
  {
   "cell_type": "code",
   "execution_count": 9,
   "metadata": {
    "id": "1BY1oAIpMVju"
   },
   "outputs": [
    {
     "name": "stdout",
     "output_type": "stream",
     "text": [
      "Enter units: 160\n",
      "Your total bill amount is 800\n"
     ]
    }
   ],
   "source": [
    "#Type your code here\n",
    "Units = int(input(\"Enter units: \"))\n",
    "if Units>=1 and Units<=100:\n",
    "    Bill = 0\n",
    "    print(\"No charge.Your total bill amount is\",Bill)\n",
    "elif Units>100 and Units<=200:\n",
    "    Bill = 5*Units\n",
    "    print(\"Your total bill amount is\",Bill)\n",
    "elif Units>200:\n",
    "    Bill = 10*Units\n",
    "    print(\"Your totl bill amount is\",Bill)"
   ]
  },
  {
   "cell_type": "markdown",
   "metadata": {
    "id": "msAIDMRDMVjv"
   },
   "source": [
    "7) Write a program to display the last digit of a number."
   ]
  },
  {
   "cell_type": "code",
   "execution_count": 10,
   "metadata": {
    "id": "VQwLuGzbMVjv"
   },
   "outputs": [
    {
     "name": "stdout",
     "output_type": "stream",
     "text": [
      "Enter numbers: 420\n",
      "The last digit is  0\n"
     ]
    }
   ],
   "source": [
    "#Type your code here\n",
    "Num = int(input(\"Enter numbers: \"))\n",
    "Data = str(Num)\n",
    "print(\"The last digit is \", Data[-1])"
   ]
  },
  {
   "cell_type": "markdown",
   "metadata": {
    "id": "UeLHzVZ_MVjw"
   },
   "source": [
    "8) Write a program to check whether the last digit of a number( entered by user ) is \n",
    "divisible by 3 or not."
   ]
  },
  {
   "cell_type": "code",
   "execution_count": 12,
   "metadata": {
    "id": "KiQ5wnc6MVjx"
   },
   "outputs": [
    {
     "name": "stdout",
     "output_type": "stream",
     "text": [
      "Enter numbers: 123456789\n",
      "9 is divisible by 3\n"
     ]
    }
   ],
   "source": [
    "#Type your code here\n",
    "Num = int(input(\"Enter numbers: \"))\n",
    "Data = str(Num)\n",
    "Last_Digit = Data[-1]\n",
    "Num2 = int(Last_Digit)\n",
    "if (Num2 % 3)==0:\n",
    "    print(Num2, \"is divisible by 3\")\n",
    "else:\n",
    "    print(Num2, \"is not divisible by 3\")"
   ]
  },
  {
   "cell_type": "markdown",
   "metadata": {
    "id": "CR4sMmRgMVjy"
   },
   "source": [
    "9) Take values of length and breadth of a rectangle from user and check if it is square or not."
   ]
  },
  {
   "cell_type": "code",
   "execution_count": 13,
   "metadata": {
    "id": "Oj1MT5fCMVjy"
   },
   "outputs": [
    {
     "name": "stdout",
     "output_type": "stream",
     "text": [
      "Enter length: 50\n",
      "Enter breadth: 50\n",
      "It is a square\n"
     ]
    }
   ],
   "source": [
    "#Type your code here \n",
    "Length = int(input(\"Enter length: \"))\n",
    "Breadth = int(input(\"Enter breadth: \"))\n",
    "if Length==Breadth:\n",
    "    print(\"It is a square\")\n",
    "else:\n",
    "    print(\"It is not a square\")"
   ]
  },
  {
   "cell_type": "markdown",
   "metadata": {
    "id": "B2e5VYbiMVjz"
   },
   "source": [
    "10) Take two int values from user and print greatest among them."
   ]
  },
  {
   "cell_type": "code",
   "execution_count": 14,
   "metadata": {
    "id": "LyYYL78HMVj0"
   },
   "outputs": [
    {
     "name": "stdout",
     "output_type": "stream",
     "text": [
      "Enter first number: 80\n",
      "Enter second number: 100\n",
      "Greater number is 100\n"
     ]
    }
   ],
   "source": [
    "# Type your code here\n",
    "Num1 = int(input(\"Enter first number: \"))\n",
    "Num2 = int(input(\"Enter second number: \"))\n",
    "\n",
    "if Num1<Num2:\n",
    "    print(\"Greater number is\", Num2)\n",
    "elif Num1>Num2:\n",
    "    print(\"Greater number is\", Num1)\n",
    "else:\n",
    "    print(\"Both are equal\")"
   ]
  },
  {
   "cell_type": "markdown",
   "metadata": {
    "id": "R9gMEjdQMVj1"
   },
   "source": [
    "11) A shop will give discount of 10% if the cost of purchased quantity is more than 1000.\n",
    "\n",
    "Ask user for quantity\n",
    "\n",
    "Suppose, one unit will cost 100.\n",
    "\n",
    "Judge and print total cost for user."
   ]
  },
  {
   "cell_type": "code",
   "execution_count": 16,
   "metadata": {
    "id": "hjvEnOzxMVj2"
   },
   "outputs": [
    {
     "name": "stdout",
     "output_type": "stream",
     "text": [
      "Enter product quantity: 30\n",
      "Congratulations! You got 10% discount\n",
      "Your discounted price is: 2700.0\n"
     ]
    }
   ],
   "source": [
    "#Type your code here\n",
    "Quantity = int(input(\"Enter product quantity: \"))\n",
    "Unit_Cost = 100\n",
    "Price = Quantity*Unit_Cost\n",
    "if Price>1000:\n",
    "    print(\"Congratulations! You got 10% discount\")\n",
    "    Discounted_Price = Price - (Price/100)*10\n",
    "    print(\"Your discounted price is:\",Discounted_Price)\n",
    "else:\n",
    "    print(\"Discount available on more than Rs1000 shopping\")"
   ]
  },
  {
   "cell_type": "markdown",
   "metadata": {
    "id": "yqYL7FZeMVj3"
   },
   "source": [
    "12) A school has following rules for grading system:\n",
    "\n",
    "a. Below 25 - F\n",
    "\n",
    "b. 25 to 45 - E\n",
    "\n",
    "c. 45 to 50 - D\n",
    "\n",
    "d. 50 to 60 - C\n",
    "\n",
    "e. 60 to 80 - B\n",
    "\n",
    "f. Above 80 - A\n",
    "\n",
    "Ask user to enter marks and print the corresponding grade."
   ]
  },
  {
   "cell_type": "code",
   "execution_count": 17,
   "metadata": {
    "id": "he_r-bpOMVj4"
   },
   "outputs": [
    {
     "name": "stdout",
     "output_type": "stream",
     "text": [
      "Enter marks: 95\n",
      "Your grade is A\n"
     ]
    }
   ],
   "source": [
    "#Type your code here\n",
    "Marks = int(input(\"Enter marks: \"))\n",
    "if Marks<=25:\n",
    "    print(\"Your grade is F\")\n",
    "elif Marks>25 and Marks<=45:\n",
    "    print(\"Your grade is E\")\n",
    "elif Marks>45 and Marks<=50:\n",
    "    print(\"Your grade is D\")\n",
    "elif Marks>50 and Marks<=60:\n",
    "    print(\"Your grade is C\")\n",
    "elif Marks>60 and Marks<=80:\n",
    "    print(\"Your grade is B\")\n",
    "else:\n",
    "    print(\"Your grade is A\")"
   ]
  },
  {
   "cell_type": "markdown",
   "metadata": {
    "id": "IUJjt9NbMVj4"
   },
   "source": [
    "13) Take input of age of 3 people by user and determine oldest and youngest among them."
   ]
  },
  {
   "cell_type": "code",
   "execution_count": 1,
   "metadata": {
    "id": "vlre5Ck0MVj4"
   },
   "outputs": [
    {
     "name": "stdout",
     "output_type": "stream",
     "text": [
      "Enter age1: 20\n",
      "Enter age2: 30\n",
      "Enter age3: 40\n",
      "P3 is Oldest\n",
      "P1 is Youngest\n"
     ]
    }
   ],
   "source": [
    "#Type your code here\n",
    "P1 = int(input(\"Enter age1: \"))\n",
    "P2 = int(input(\"Enter age2: \"))\n",
    "P3 = int(input(\"Enter age3: \"))\n",
    "\n",
    "if P1>P2 and P1>P3:\n",
    "    print(\"P1 is Oldest\")\n",
    "elif P2>P1 and P2>P3:\n",
    "    print(\"P2 is Oldest\")\n",
    "else:\n",
    "    print(\"P3 is Oldest\")\n",
    "    \n",
    "if P1<P2 and P1<P3:\n",
    "    print(\"P1 is Youngest\")\n",
    "elif P2<P1 and P2<P3:\n",
    "    print(\"P2 is Youngest\")\n",
    "else:\n",
    "    print(\"P3 is Youngest\")"
   ]
  },
  {
   "cell_type": "markdown",
   "metadata": {
    "id": "Zc9ovDhsMVj5"
   },
   "source": [
    "14) A student will not be allowed to sit in exam if his/her attendence is less than 75%.\n",
    "\n",
    "Take following input from user\n",
    "\n",
    "Number of classes held\n",
    "\n",
    "Number of classes attended.\n",
    "\n",
    "And print\n",
    "\n",
    "percentage of class attended\n",
    "\n",
    "Is student is allowed to sit in exam or not."
   ]
  },
  {
   "cell_type": "code",
   "execution_count": 5,
   "metadata": {
    "id": "rseYum2_MVj6"
   },
   "outputs": [
    {
     "name": "stdout",
     "output_type": "stream",
     "text": [
      "Enter no. of classes held: 20\n",
      "Enter no. of classes attended: 14\n",
      "Sorry! You are not allowed to sit in Exam\n"
     ]
    }
   ],
   "source": [
    "#Type your code here\n",
    "No_of_Classes_Held = int(input(\"Enter no. of classes held: \"))\n",
    "No_of_Classes_Attended = int(input(\"Enter no. of classes attended: \"))\n",
    "Percentage = (No_of_Classes_Attended/No_of_Classes_Held)*100\n",
    "\n",
    "if Percentage<75:\n",
    "    print(\"Sorry! You are not allowed to sit in Exam\")\n",
    "else:\n",
    "    print(\"Congratulations! You are allowed to sit in Exam\")"
   ]
  },
  {
   "cell_type": "markdown",
   "metadata": {
    "id": "58UPPHAOMVj6"
   },
   "source": [
    "15) Modify the above question to allow student to sit if he/she has medical cause. Ask user if he/she has medical cause or not ( 'Y' or 'N' ) and print accordingly."
   ]
  },
  {
   "cell_type": "code",
   "execution_count": 6,
   "metadata": {
    "id": "lDi-xLzTMVj7"
   },
   "outputs": [
    {
     "name": "stdout",
     "output_type": "stream",
     "text": [
      "Enter no. of classes held: 20\n",
      "Enter no. of classes attended: 14\n",
      "You have ay medical cause: Yes\n",
      "Your attendance percentage is 70.0\n",
      "Congratulations! Due to medical cause, you are allowed to sit in Exam\n"
     ]
    }
   ],
   "source": [
    "#Type your code here\n",
    "No_of_Classes_Held = int(input(\"Enter no. of classes held: \"))\n",
    "No_of_Classes_Attended = int(input(\"Enter no. of classes attended: \"))\n",
    "Medical_Cause = input(\"You have ay medical cause: \")\n",
    "Percentage = (No_of_Classes_Attended/No_of_Classes_Held)*100\n",
    "\n",
    "if Percentage<75 and Medical_Cause==\"No\":\n",
    "    print(\"Sorry! You are not allowed to sit in Exam\")\n",
    "elif Percentage<75 and Medical_Cause==\"Yes\":\n",
    "    print(\"Your attendance percentage is\", Percentage)\n",
    "    print(\"Congratulations! Due to medical cause, you are allowed to sit in Exam\")"
   ]
  },
  {
   "cell_type": "markdown",
   "metadata": {
    "id": "kJtSy1EoMVj7"
   },
   "source": [
    "16) Write a program to check if a year is leap year or not.\n",
    "\n",
    "If a year is divisible by 4 then it is leap year but if the year is century year like 2000, 1900, 2100 then it must be divisible by 400."
   ]
  },
  {
   "cell_type": "code",
   "execution_count": 8,
   "metadata": {
    "id": "QUL_YUX3MVj7"
   },
   "outputs": [
    {
     "name": "stdout",
     "output_type": "stream",
     "text": [
      "Enter year: 2022\n",
      "It is not a leap year\n"
     ]
    }
   ],
   "source": [
    "#Type your code here\n",
    "Year = int(input(\"Enter year: \"))\n",
    "if (Year%4)==0 or (Year%400)==0:\n",
    "    print(\"It is a leap year\")\n",
    "else:\n",
    "    print(\"It is not a leap year\")"
   ]
  },
  {
   "cell_type": "markdown",
   "metadata": {
    "id": "CCNg4yDDMVj8"
   },
   "source": [
    "17) Ask user to enter age, gender ( M or F ), marital status ( Y or N ) and then using following rules print their place of service.\n",
    "\n",
    "if employee is female, then she will work only in urban areas.\n",
    "\n",
    "if employee is a male and age is in between 20 to 40 then he may work in anywhere\n",
    "\n",
    "if employee is male and age is in between 40 t0 60 then he will work in urban areas only.\n",
    "\n",
    "And any other input of age should print \"ERROR\""
   ]
  },
  {
   "cell_type": "code",
   "execution_count": 11,
   "metadata": {
    "id": "RDWMB0CZMVj8"
   },
   "outputs": [
    {
     "name": "stdout",
     "output_type": "stream",
     "text": [
      "Enter age: 30\n",
      "Enter gender: Male\n",
      "Enter marital status: Married\n",
      "You may work anywhere\n"
     ]
    }
   ],
   "source": [
    "#Type your code here\n",
    "Age = int(input(\"Enter age: \"))\n",
    "Gender = input(\"Enter gender: \")\n",
    "Marital_Status = input(\"Enter marital status: \")\n",
    "\n",
    "if Gender==\"Female\":\n",
    "    print(\"You will work only in Urban areas\")\n",
    "elif Gender==\"Male\" and Age>=20 and Age<=40:\n",
    "    print(\"You may work anywhere\")\n",
    "elif Gender==\"Male\" and Age>=40 and Age<=60:    \n",
    "    print(\"You will work i Urban areas only\")\n",
    "else:\n",
    "    print(\"Error\")"
   ]
  },
  {
   "cell_type": "code",
   "execution_count": null,
   "metadata": {
    "id": "-TG-QI8TMVj9"
   },
   "outputs": [],
   "source": []
  }
 ],
 "metadata": {
  "colab": {
   "name": "If then Else &Elif Practice Task .ipynb",
   "provenance": []
  },
  "kernelspec": {
   "display_name": "Python 3 (ipykernel)",
   "language": "python",
   "name": "python3"
  },
  "language_info": {
   "codemirror_mode": {
    "name": "ipython",
    "version": 3
   },
   "file_extension": ".py",
   "mimetype": "text/x-python",
   "name": "python",
   "nbconvert_exporter": "python",
   "pygments_lexer": "ipython3",
   "version": "3.9.7"
  }
 },
 "nbformat": 4,
 "nbformat_minor": 1
}
