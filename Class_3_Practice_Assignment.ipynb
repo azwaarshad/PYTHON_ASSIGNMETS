{
 "cells": [
  {
   "cell_type": "markdown",
   "id": "f6519aad",
   "metadata": {},
   "source": [
    "# User input"
   ]
  },
  {
   "cell_type": "markdown",
   "id": "30b07d05",
   "metadata": {},
   "source": [
    "1) Take a sentence input from user using input function. Count occurence of a particular character/word in the sentence and\n",
    "\n",
    "print the message that the character appear this many times in the sentence.\n",
    "\n",
    "Like if user inputs> \"My name is Sana. I am an undergraduate student. I am learning Artificial Intellegence in PIAIC\"\n",
    "\n",
    "Your output should be:\n",
    "\n",
    "I appears 5 times in your sentence\n",
    "\n",
    "Hint: nahi batounga use string methods.\n",
    "\n",
    "Note: Sana is a boy. His full name is SanaUllah😄"
   ]
  },
  {
   "cell_type": "code",
   "execution_count": 3,
   "id": "97f45730",
   "metadata": {},
   "outputs": [
    {
     "name": "stdout",
     "output_type": "stream",
     "text": [
      "My name is Sana. I am an undergraduate student. I am learning Artificial Intelligence at \"PIAIC\".\n",
      "I appears 5 times in sentence.\n"
     ]
    }
   ],
   "source": [
    "Sentence = input()\n",
    "Character = Sentence.count(\"I\")\n",
    "print(\"I appears\", Character, \"times in sentence.\")"
   ]
  },
  {
   "cell_type": "code",
   "execution_count": 2,
   "id": "0a5a3034",
   "metadata": {},
   "outputs": [
    {
     "name": "stdout",
     "output_type": "stream",
     "text": [
      "My name is Sana. I am an undergraduate student. I am learning Artificial Intelligence at \"PIAIC\".\n",
      "a appears 11 times in sentence.\n"
     ]
    }
   ],
   "source": [
    "Sentence = input()\n",
    "Character = Sentence.count(\"a\")\n",
    "print(\"a appears\", Character, \"times in sentence.\")"
   ]
  },
  {
   "cell_type": "markdown",
   "id": "c3bb532c",
   "metadata": {},
   "source": [
    "2) Take a number input from user and print the square of that number. \n",
    "\n",
    "if a user inputs 10 Your output should be like:\n",
    "   \n",
    "   The square of 10 is 100\n",
    "\n",
    "if a user inputs 5 Your output should be like:\n",
    "   \n",
    "   The square of 5 is 25\n",
    "\n",
    "if a user inputs 2 Your output should be like:\n",
    "\n",
    "   The square of 2 is 4"
   ]
  },
  {
   "cell_type": "code",
   "execution_count": 4,
   "id": "577cb9ae",
   "metadata": {},
   "outputs": [
    {
     "name": "stdout",
     "output_type": "stream",
     "text": [
      "20\n",
      "The square of 20 is 400\n"
     ]
    }
   ],
   "source": [
    "Square = int(input())\n",
    "Sq = Square*Square\n",
    "print(\"The square of\", Square, \"is\", Sq)"
   ]
  },
  {
   "cell_type": "code",
   "execution_count": 5,
   "id": "b95d1df6",
   "metadata": {},
   "outputs": [
    {
     "name": "stdout",
     "output_type": "stream",
     "text": [
      "8\n",
      "The square of 8 is 64\n"
     ]
    }
   ],
   "source": [
    "Square = int(input())\n",
    "Sq = Square*Square\n",
    "print(\"The square of\", Square, \"is\", Sq)"
   ]
  },
  {
   "cell_type": "markdown",
   "id": "13c3a1b8",
   "metadata": {},
   "source": [
    "3) Take two inputs from user using two input functions add these two numbers and print the result.\n",
    "    \n",
    "For example if a user inputs 10 in first input, 20 in second input then your output mustbe like:\n",
    "\n",
    "The sum of 10 and 20 is 30\n",
    "    \n",
    "For example if a user inputs 12 in first input, 30 in second input then your output mustbe like:\n",
    "    \n",
    "The sum of 12 and 30 is 42\n",
    "\n",
    "For example if a user inputs 100 in first input, 200 in second input then your out put mustbe like:\n",
    "\n",
    "The sum of 100 and 200 is 300"
   ]
  },
  {
   "cell_type": "code",
   "execution_count": 2,
   "id": "e9f8a73c",
   "metadata": {},
   "outputs": [
    {
     "name": "stdout",
     "output_type": "stream",
     "text": [
      "20\n",
      "30\n",
      "The sum of 20 and 30 is 50\n"
     ]
    }
   ],
   "source": [
    "X = int(input())\n",
    "Y = int(input())\n",
    "\n",
    "Sum = X + Y\n",
    "print(\"The sum of\", X, \"and\", Y, \"is\", Sum)"
   ]
  },
  {
   "cell_type": "code",
   "execution_count": 2,
   "id": "ccc63c54",
   "metadata": {},
   "outputs": [
    {
     "name": "stdout",
     "output_type": "stream",
     "text": [
      "400\n",
      "500\n",
      "The sum of 400 and 500 is 900\n"
     ]
    }
   ],
   "source": [
    "Num1 = int(input())\n",
    "Num2 = int(input())\n",
    "\n",
    "Sum = Num1 + Num2\n",
    "print(\"The sum of\", Num1, \"and\", Num2, \"is\", Sum)"
   ]
  },
  {
   "cell_type": "markdown",
   "id": "71825e4d",
   "metadata": {},
   "source": [
    "4) Format a string to display a card like string:\n",
    "    \n",
    "            Presidential Initiative for AI & Computing\n",
    "                          ID CARD\n",
    "            Student Name   : Asad Ali\n",
    "            Father Name    : Amjad Ali\n",
    "            Date of Birth  : 01-01-2000\n",
    "            Course Enrolled: Artificial Intelligence\n",
    "            Batch          : 2022\n",
    "            Day            : Saturday \n",
    "            Centre         : Sir Syed University of Engg and Technology\n",
    "                \n",
    "Note: all the field values must be taken as user inputs and stored in variable"
   ]
  },
  {
   "cell_type": "code",
   "execution_count": 5,
   "id": "6fd0cc9b",
   "metadata": {},
   "outputs": [
    {
     "name": "stdout",
     "output_type": "stream",
     "text": [
      "Enter name: Asad Ali\n",
      "Enter father name: Amjad Ali\n",
      "Enter birth date: 01-01-2000\n",
      "Enter course: Artificial Intelligence\n",
      "Enter batch: 2022\n",
      "Enter day: Saturday\n",
      "Enter centre: Sir Syed University of Engineering and Technology\n"
     ]
    }
   ],
   "source": [
    "Name = input(\"Enter name: \")\n",
    "F_Name = input(\"Enter father name: \")\n",
    "Birth_Date = input(\"Enter birth date: \")\n",
    "Course = input(\"Enter course: \")\n",
    "Batch = input(\"Enter batch: \")\n",
    "Day = input(\"Enter day: \")\n",
    "Centre = input(\"Enter centre: \")"
   ]
  },
  {
   "cell_type": "code",
   "execution_count": 8,
   "id": "0f2d4d2d",
   "metadata": {},
   "outputs": [
    {
     "name": "stdout",
     "output_type": "stream",
     "text": [
      "\n",
      "        Presidential Initiative foe AI & Computing\n",
      "                     ID CARD\n",
      "        Student Name:    Asad Ali  \n",
      "        Father Name:     Amjad Ali\n",
      "        Date of Birth:   01-01-2000\n",
      "        Course Enrolled: Artificial Intelligence\n",
      "        Batch:           2022\n",
      "        Day:             Saturday\n",
      "        Cntre:           Sir Syed University of Engineering and Technology\n",
      "        \n"
     ]
    }
   ],
   "source": [
    "print(f\"\"\"\n",
    "        Presidential Initiative foe AI & Computing\n",
    "                     ID CARD\n",
    "        Student Name:    {Name}  \n",
    "        Father Name:     {F_Name}\n",
    "        Date of Birth:   {Birth_Date}\n",
    "        Course Enrolled: {Course}\n",
    "        Batch:           {Batch}\n",
    "        Day:             {Day}\n",
    "        Cntre:           {Centre}\n",
    "        \"\"\")"
   ]
  },
  {
   "cell_type": "code",
   "execution_count": null,
   "id": "71143730",
   "metadata": {},
   "outputs": [],
   "source": []
  }
 ],
 "metadata": {
  "kernelspec": {
   "display_name": "Python 3 (ipykernel)",
   "language": "python",
   "name": "python3"
  },
  "language_info": {
   "codemirror_mode": {
    "name": "ipython",
    "version": 3
   },
   "file_extension": ".py",
   "mimetype": "text/x-python",
   "name": "python",
   "nbconvert_exporter": "python",
   "pygments_lexer": "ipython3",
   "version": "3.9.7"
  }
 },
 "nbformat": 4,
 "nbformat_minor": 5
}
