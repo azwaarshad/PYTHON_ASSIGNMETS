{
 "cells": [
  {
   "cell_type": "markdown",
   "id": "b5ec9d3e",
   "metadata": {},
   "source": [
    "### Task1:\n",
    "You need to code a program that prints numbers from 1 to 20 except multiple of 2 & 3.\n",
    "\n",
    "Hint: use \"modulo\" operator and \"and/or\" operators"
   ]
  },
  {
   "cell_type": "code",
   "execution_count": 1,
   "id": "a94f69b5",
   "metadata": {},
   "outputs": [
    {
     "name": "stdout",
     "output_type": "stream",
     "text": [
      "1\n",
      "5\n",
      "7\n",
      "11\n",
      "13\n",
      "17\n",
      "19\n"
     ]
    }
   ],
   "source": [
    "# Your code goes here\n",
    "for num in range(1,21):\n",
    "    if num%2!=0 and num%3!=0:\n",
    "        print(num)                "
   ]
  },
  {
   "cell_type": "markdown",
   "id": "b123a205",
   "metadata": {},
   "source": [
    "### Task2:\n",
    "Write a program that keep on accepting number from the user until user enters Zero. Display the sum and average of all the numbers.\n",
    "\n",
    "Hint: Use while loop with flag. "
   ]
  },
  {
   "cell_type": "code",
   "execution_count": 3,
   "id": "29296c1c",
   "metadata": {},
   "outputs": [
    {
     "name": "stdout",
     "output_type": "stream",
     "text": [
      "Enter numbers: 4\n",
      "Enter numbers: 10\n",
      "Enter numbers: 8\n",
      "Enter numbers: 5\n",
      "Enter numbers: 7\n",
      "Enter numbers: 6\n",
      "Enter numbers: 0\n",
      "Sum of all the numbers: 40\n",
      "Average of all the numbrs: 6.666666666666667\n"
     ]
    }
   ],
   "source": [
    "# Your code goes here\n",
    "flag = True\n",
    "Total = 0\n",
    "Count = 0\n",
    "while flag:\n",
    "    Count += 1\n",
    "    Num = int(input(\"Enter numbers: \"))\n",
    "    if Num == 0:\n",
    "        Count -= 1\n",
    "        break\n",
    "    else:\n",
    "        Total += Num\n",
    "        \n",
    "print(f\"Sum of all the numbers: {Total}\")\n",
    "print(F\"Average of all the numbrs: {Total/Count}\")"
   ]
  },
  {
   "cell_type": "markdown",
   "id": "9ea5024e",
   "metadata": {},
   "source": [
    "##### Task3:\n",
    "Accept 10 numbers from the user and display their average.\n",
    "\n",
    "Hint: Use loop for accepting numbers or use split to take input in one go"
   ]
  },
  {
   "cell_type": "code",
   "execution_count": 5,
   "id": "5bebbbe8",
   "metadata": {},
   "outputs": [
    {
     "name": "stdout",
     "output_type": "stream",
     "text": [
      "Enter numbers: 10,20,30,40,50,60,70,80,90,100\n",
      "Average of all the numbers: 55.0\n"
     ]
    }
   ],
   "source": [
    "# Your code goes here\n",
    "Numbers = input(\"Enter numbers: \").split(',')\n",
    "Total = 0\n",
    "for num in Numbers:\n",
    "    Total += int(num)\n",
    "    \n",
    "print(f\"Average of all the numbers: {Total/10}\")    "
   ]
  },
  {
   "cell_type": "markdown",
   "id": "e17466dd",
   "metadata": {},
   "source": [
    "### Task4:\n",
    "Write a program to display sum of odd numbers and even numbers that fall between 12 and 37(including both numbers)\n"
   ]
  },
  {
   "cell_type": "code",
   "execution_count": 6,
   "id": "d5715b5c",
   "metadata": {},
   "outputs": [
    {
     "name": "stdout",
     "output_type": "stream",
     "text": [
      "Sum of all even numbers between 12 and 37: 312\n",
      "Sum of all odd numbers between 12 and 37: 325\n"
     ]
    }
   ],
   "source": [
    "# Your code goes here\n",
    "Even_Sum = 0\n",
    "Odd_Sum = 0\n",
    "for num in range(12,38):\n",
    "    if num%2 == 0:\n",
    "        Even_Sum += num\n",
    "    else:\n",
    "        Odd_Sum += num\n",
    "        \n",
    "print(f\"Sum of all even numbers between 12 and 37: {Even_Sum}\") \n",
    "print(f\"Sum of all odd numbers between 12 and 37: {Odd_Sum}\")"
   ]
  },
  {
   "cell_type": "markdown",
   "id": "4c64217d",
   "metadata": {},
   "source": [
    "### Task5:\n",
    "Write a program to print table of a number accepted from user.\n"
   ]
  },
  {
   "cell_type": "markdown",
   "id": "3487ea3c",
   "metadata": {},
   "source": [
    "Output: \n",
    "\n",
    "7 * 1 = 7\n",
    "\n",
    "7 * 2 = 14\n",
    "\n",
    "7 * 3 = 21\n",
    "\n",
    "7 * 4 = 28\n",
    "\n",
    "7 * 5 = 35\n",
    "\n",
    "7 * 6 = 42\n",
    "\n",
    "7 * 7 = 49\n",
    "\n",
    "7 * 8 = 56\n",
    "\n",
    "7 * 9 = 63\n",
    "\n",
    "7 * 10 = 70"
   ]
  },
  {
   "cell_type": "code",
   "execution_count": 2,
   "id": "3305bb3d",
   "metadata": {},
   "outputs": [
    {
     "name": "stdout",
     "output_type": "stream",
     "text": [
      "Table of 7\n",
      "7 * 1 = 7\n",
      "7 * 2 = 14\n",
      "7 * 3 = 21\n",
      "7 * 4 = 28\n",
      "7 * 5 = 35\n",
      "7 * 6 = 42\n",
      "7 * 7 = 49\n",
      "7 * 8 = 56\n",
      "7 * 9 = 63\n",
      "7 * 10 = 70\n"
     ]
    }
   ],
   "source": [
    "# Your code goes here\n",
    "a = int(input(\"Table of \"))\n",
    "for i in range(1,11):\n",
    "    print(a,\"*\",i,\"=\",a*i)"
   ]
  },
  {
   "cell_type": "markdown",
   "id": "fc08df86",
   "metadata": {},
   "source": [
    "### Task6:\n",
    "Write a program to display product of the digits of a number accepted from the user.\n",
    "\n",
    "If user inputs:123 Outputs 6\n",
    "\n",
    "If user inputs: 567 Outputs 210"
   ]
  },
  {
   "cell_type": "code",
   "execution_count": 7,
   "id": "e793d4c9",
   "metadata": {},
   "outputs": [
    {
     "name": "stdout",
     "output_type": "stream",
     "text": [
      "Enter number: 567\n",
      "210\n"
     ]
    }
   ],
   "source": [
    "# Your code goes here\n",
    "Number = input(\"Enter number: \")\n",
    "if len(Number)>0:\n",
    "    Product = 1\n",
    "    for num in Number:\n",
    "        Product *= int(num)\n",
    "    print(Product)\n",
    "else:\n",
    "    print(\"Enter atleast 1 digit number\")"
   ]
  },
  {
   "cell_type": "markdown",
   "id": "f041397e",
   "metadata": {},
   "source": [
    "### Task7: \n",
    "Write a program to print first 10 even numbers in reverse order."
   ]
  },
  {
   "cell_type": "code",
   "execution_count": 3,
   "id": "b639f15e",
   "metadata": {},
   "outputs": [
    {
     "name": "stdout",
     "output_type": "stream",
     "text": [
      "20\n",
      "18\n",
      "16\n",
      "14\n",
      "12\n",
      "10\n",
      "8\n",
      "6\n",
      "4\n",
      "2\n"
     ]
    }
   ],
   "source": [
    "# Your code goes here\n",
    "for i in range(20, 0, -2):\n",
    "    print(i)"
   ]
  },
  {
   "cell_type": "markdown",
   "id": "37b679bb",
   "metadata": {},
   "source": [
    "### Task8:\n",
    "Write a program to find the sum of the digits of a number accepted from user\n",
    "\n",
    "If user inputs:123 Outputs 6\n",
    "\n",
    "If user inputs: 567 Outputs 18"
   ]
  },
  {
   "cell_type": "code",
   "execution_count": 10,
   "id": "adef66ce",
   "metadata": {},
   "outputs": [
    {
     "name": "stdout",
     "output_type": "stream",
     "text": [
      "Enter number: 567\n",
      "18\n"
     ]
    }
   ],
   "source": [
    "# Your code goes here\n",
    "Number = input(\"Enter number: \")\n",
    "if len(Number)>0:\n",
    "    Sum = 0\n",
    "    for num in Number:\n",
    "        Sum += int(num)\n",
    "    print(Sum)\n",
    "else:\n",
    "    print(\"Enter atleast 1 digit number\")"
   ]
  },
  {
   "cell_type": "markdown",
   "id": "8b87f377",
   "metadata": {},
   "source": [
    "### Task9:\n",
    "Write a program that accepts a sentence and calculate the number of letters and digits.\n",
    "\n",
    "Suppose the following input is supplied to the program:\n",
    "\n",
    "hello world! 123\n",
    "\n",
    "Then, the output should be:\n",
    "\n",
    "LETTERS 10\n",
    "\n",
    "DIGITS 3\n"
   ]
  },
  {
   "cell_type": "code",
   "execution_count": 8,
   "id": "73835ab3",
   "metadata": {},
   "outputs": [
    {
     "name": "stdout",
     "output_type": "stream",
     "text": [
      "Enter sentence: Assalam o Alikum! My name is Azwa Arshad.I am 18 years old.I am a student of Artificial Intelligence at PIAIC.\n",
      "Digits: 2\n",
      "Letters: 85\n"
     ]
    }
   ],
   "source": [
    "# Your code goes here\n",
    "Sentence = input(\"Enter sentence: \")\n",
    "No_of_Digits = 0\n",
    "No_of_Letters = 0\n",
    "\n",
    "for i in Sentence:\n",
    "    if i.isdigit():\n",
    "        No_of_Digits += 1\n",
    "    elif i.isalpha():\n",
    "        No_of_Letters += 1\n",
    "\n",
    "print(f\"Digits: {No_of_Digits}\")\n",
    "print(f\"Letters: {No_of_Letters}\")"
   ]
  },
  {
   "cell_type": "markdown",
   "id": "a25b412b",
   "metadata": {},
   "source": [
    "### Task10: \n",
    "You need to trace and make a list of all such numbers from1000 to 3000 in which all the digits are even numbers."
   ]
  },
  {
   "cell_type": "code",
   "execution_count": 11,
   "id": "a3c27a5e",
   "metadata": {},
   "outputs": [
    {
     "name": "stdout",
     "output_type": "stream",
     "text": [
      "[2000, 2002, 2004, 2006, 2008, 2020, 2022, 2024, 2026, 2028, 2040, 2042, 2044, 2046, 2048, 2060, 2062, 2064, 2066, 2068, 2080, 2082, 2084, 2086, 2088, 2200, 2202, 2204, 2206, 2208, 2220, 2222, 2224, 2226, 2228, 2240, 2242, 2244, 2246, 2248, 2260, 2262, 2264, 2266, 2268, 2280, 2282, 2284, 2286, 2288, 2400, 2402, 2404, 2406, 2408, 2420, 2422, 2424, 2426, 2428, 2440, 2442, 2444, 2446, 2448, 2460, 2462, 2464, 2466, 2468, 2480, 2482, 2484, 2486, 2488, 2600, 2602, 2604, 2606, 2608, 2620, 2622, 2624, 2626, 2628, 2640, 2642, 2644, 2646, 2648, 2660, 2662, 2664, 2666, 2668, 2680, 2682, 2684, 2686, 2688, 2800, 2802, 2804, 2806, 2808, 2820, 2822, 2824, 2826, 2828, 2840, 2842, 2844, 2846, 2848, 2860, 2862, 2864, 2866, 2868, 2880, 2882, 2884, 2886, 2888]\n"
     ]
    }
   ],
   "source": [
    "# Your code goes here\n",
    "List = []\n",
    "for num in range(1000, 3001):\n",
    "    num = str(num)\n",
    "    if( (int(num[0])%2 == 0) and (int(num[1])%2 == 0) and (int(num[2])%2 == 0) and (int(num[3])%2 == 0)):\n",
    "        List.append(int(num))\n",
    "    else:\n",
    "        continue\n",
    "        \n",
    "print(List)        "
   ]
  },
  {
   "cell_type": "markdown",
   "id": "ddc08744",
   "metadata": {},
   "source": [
    "### Task11: \n",
    "You need to write a program that counts the number of vowels in a given sentence as input from console. \n",
    "\n",
    "Suppose the following input is supplied to the program:\n",
    "\n",
    "Hello world! Practice makes perfect\n",
    "\n",
    "Then, the output should be:\n",
    "\n",
    "a appeared 2 times\n",
    "\n",
    "e appeared 5 times\n",
    "\n",
    "i appeared  1 time\n",
    "\n",
    "o appeared 2 times\n",
    "\n",
    "u appeared 0 time\n"
   ]
  },
  {
   "cell_type": "code",
   "execution_count": 6,
   "id": "0ed960fd",
   "metadata": {},
   "outputs": [
    {
     "name": "stdout",
     "output_type": "stream",
     "text": [
      "Enter sentencs: Assalam o Alikum! my name is Azwa Arshad.I am 18 years old.I am a student of Artificial Intelligence at PIAIC.\n",
      "a appears 11 times.\n",
      "e appears 6 times.\n",
      "i appears 6 times.\n",
      "o appears 3 times.\n",
      "u appears 2 times.\n",
      "A appears 6 times.\n",
      "E appears 0 times.\n",
      "I appears 0 times.\n",
      "O appears 0 times.\n",
      "U appears 0 times.\n"
     ]
    }
   ],
   "source": [
    "# Your code goes here\n",
    "Sentence = input(\"Enter sentencs: \")\n",
    "\n",
    "No_of_a = 0\n",
    "No_of_e = 0\n",
    "No_of_i = 0\n",
    "No_of_o = 0\n",
    "No_of_u = 0\n",
    "No_of_A = 0\n",
    "No_of_E = 0\n",
    "No_of_I = 0\n",
    "No_of_O = 0\n",
    "No_of_U = 0\n",
    "\n",
    "for i in range(len(Sentence)):\n",
    "    if Sentence[i] == \"a\":\n",
    "        No_of_a += 1\n",
    "    elif Sentence[i] == \"e\":\n",
    "        No_of_e += 1\n",
    "    elif Sentence[i] == \"i\":\n",
    "        No_of_i += 1\n",
    "    elif Sentence[i] == \"o\":\n",
    "        No_of_o += 1\n",
    "    elif Sentence[i] == \"u\":\n",
    "        No_of_u += 1\n",
    "    elif Sentence[i] == \"A\":\n",
    "        No_of_A += 1\n",
    "    elif Sentence[i] == \"E\":\n",
    "        No_of_E += 1\n",
    "    elif Sentence[i] == \"I\":\n",
    "        No_of_I ++ 1\n",
    "    elif Sentence[i] == \"O\":\n",
    "        No_of_O += 1\n",
    "    elif Sentence[i] == \"U\":\n",
    "        No_of_U += 1\n",
    "        \n",
    "print(f\"a appears {No_of_a} times.\")\n",
    "print(f\"e appears {No_of_e} times.\")\n",
    "print(f\"i appears {No_of_i} times.\")\n",
    "print(f\"o appears {No_of_o} times.\")\n",
    "print(f\"u appears {No_of_u} times.\")\n",
    "print(f\"A appears {No_of_A} times.\")\n",
    "print(f\"E appears {No_of_E} times.\")\n",
    "print(f\"I appears {No_of_I} times.\")\n",
    "print(f\"O appears {No_of_O} times.\")\n",
    "print(f\"U appears {No_of_U} times.\")"
   ]
  },
  {
   "cell_type": "markdown",
   "id": "45a0c3c4",
   "metadata": {},
   "source": [
    "### Task12:\n",
    "You need to write a program that takes sequence of lines as input and prints the lines after making all characters in the sentence capitalized.\n",
    "\n",
    "Suppose the following input is supplied to the program:\n",
    "\n",
    "Hello world\n",
    "\n",
    "Practice makes perfect\n",
    "\n",
    "Then, the output should be:\n",
    "\n",
    "HELLO WORLD\n",
    "PRACTICE MAKES PERFECT"
   ]
  },
  {
   "cell_type": "code",
   "execution_count": 12,
   "id": "029fc3d6",
   "metadata": {},
   "outputs": [
    {
     "name": "stdout",
     "output_type": "stream",
     "text": [
      "Hello World\n",
      "Practice makes perfect\n",
      "This is python programming\n",
      "\n",
      "HELLO WORLD\n",
      "PRACTICE MAKES PERFECT\n",
      "THIS IS PYTHON PROGRAMMING\n",
      "\n"
     ]
    }
   ],
   "source": [
    "# Your code goes here\n",
    "Sentence = \"\"\n",
    "while True:\n",
    "    Line = input()\n",
    "    if Line:\n",
    "        Sentence += Line + \"\\n\"\n",
    "    else:\n",
    "        break\n",
    "        \n",
    "print(Sentence.upper())        "
   ]
  },
  {
   "cell_type": "markdown",
   "id": "a374068f",
   "metadata": {},
   "source": [
    "### Task13:\n",
    "You need to write a code that takes a comma separated sequence of words as input and prints the words in a comma-separated sequence after sorting them alphabetically.\n",
    "\n",
    "Suppose the following input is supplied to the program:\n",
    "\n",
    "without,hello,bag,world\n",
    "\n",
    "Then, the output should be:\n",
    "\n",
    "bag,hello,without,world"
   ]
  },
  {
   "cell_type": "code",
   "execution_count": 1,
   "id": "488509b9",
   "metadata": {},
   "outputs": [
    {
     "name": "stdout",
     "output_type": "stream",
     "text": [
      "Enter words: without,hello,bag,world\n",
      "baghellowithoutworld"
     ]
    },
    {
     "data": {
      "text/plain": [
       "['bag', 'hello', 'without', 'world']"
      ]
     },
     "execution_count": 1,
     "metadata": {},
     "output_type": "execute_result"
    }
   ],
   "source": [
    "# Your code goes here\n",
    "Words = input(\"Enter words: \").split(',')\n",
    "Words.sort()\n",
    "\n",
    "for i in Words:\n",
    "    print(i, sep=',', end='')\n",
    "Words    "
   ]
  },
  {
   "cell_type": "markdown",
   "id": "0d9422e7",
   "metadata": {},
   "source": [
    "### Task14:\n",
    "You need code a program that calculates and prints the value according to the given formula:\n",
    "P = Square root of [(2 * A * B)/C]\n",
    "\n",
    "Following are the fixed values of A and B:\n",
    "\n",
    "A is 50. B is 30.\n",
    "\n",
    "The values of the literal C should be taken as console input to your program in a comma-separated sequence.\n",
    "\n",
    "Example:\n",
    "Let us assume the following comma separated input sequence is given to the program:\n",
    "100,150,180\n",
    "\n",
    "The output of the program should be:\n",
    "18,22,24"
   ]
  },
  {
   "cell_type": "code",
   "execution_count": 10,
   "id": "1b6731be",
   "metadata": {},
   "outputs": [
    {
     "name": "stdout",
     "output_type": "stream",
     "text": [
      "Enter values of C: 100,150,180\n"
     ]
    },
    {
     "data": {
      "text/plain": [
       "[300, 244, 223]"
      ]
     },
     "execution_count": 10,
     "metadata": {},
     "output_type": "execute_result"
    }
   ],
   "source": [
    "# Your code goes here\n",
    "import math\n",
    "A = 50\n",
    "B = 30\n",
    "P_values = []\n",
    "C = input(\"Enter values of C: \").split(',')\n",
    "\n",
    "for i in C:\n",
    "    P = ((2*A*B)/int(i)**.5)\n",
    "    P_values.append(math.floor(P))\n",
    "P_values    "
   ]
  },
  {
   "cell_type": "markdown",
   "id": "87f9f13d",
   "metadata": {},
   "source": [
    "### Task15:\n",
    "You need to write a ocde in python that finds all such numbers which are divisible by 7 but are not a multiple of 5,\n",
    "between 2000 and 3200 (both included).\n",
    "\n",
    "Print the obtained numbers in a comma-separated sequence on a single line\n",
    "\n",
    "Hint: modulo operator, and/or operator, for loop /while loop"
   ]
  },
  {
   "cell_type": "code",
   "execution_count": 7,
   "id": "ba3d9d96",
   "metadata": {},
   "outputs": [
    {
     "name": "stdout",
     "output_type": "stream",
     "text": [
      "2002,2009,2016,2023,2037,2044,2051,2058,2072,2079,2086,2093,2107,2114,2121,2128,2142,2149,2156,2163,2177,2184,2191,2198,2212,2219,2226,2233,2247,2254,2261,2268,2282,2289,2296,2303,2317,2324,2331,2338,2352,2359,2366,2373,2387,2394,2401,2408,2422,2429,2436,2443,2457,2464,2471,2478,2492,2499,2506,2513,2527,2534,2541,2548,2562,2569,2576,2583,2597,2604,2611,2618,2632,2639,2646,2653,2667,2674,2681,2688,2702,2709,2716,2723,2737,2744,2751,2758,2772,2779,2786,2793,2807,2814,2821,2828,2842,2849,2856,2863,2877,2884,2891,2898,2912,2919,2926,2933,2947,2954,2961,2968,2982,2989,2996,3003,3017,3024,3031,3038,3052,3059,3066,3073,3087,3094,3101,3108,3122,3129,3136,3143,3157,3164,3171,3178,3192,3199,"
     ]
    }
   ],
   "source": [
    "# Your code goes here\n",
    "numbers = \"\"\n",
    "for i in range(2000, 3201):\n",
    "    if i % 7 == 0 and i % 5 != 0:\n",
    "        print(i, end=\",\")"
   ]
  },
  {
   "cell_type": "markdown",
   "id": "f75c81d1",
   "metadata": {},
   "source": [
    "### Task16:\n",
    "With a given integral number n, write a program to generate a dictionary that contains (i, i*i) such that is an integral number between 1 and n (both included). and then the program should print the dictionary.\n",
    "\n",
    "Suppose the following input is supplied to the program:\n",
    "\n",
    "8\n",
    "\n",
    "Then, the output should be:\n",
    "\n",
    "{1: 1, 2: 4, 3: 9, 4: 16, 5: 25, 6: 36, 7: 49, 8: 64}"
   ]
  },
  {
   "cell_type": "code",
   "execution_count": 8,
   "id": "451bacfc",
   "metadata": {},
   "outputs": [
    {
     "name": "stdout",
     "output_type": "stream",
     "text": [
      "Enter any number: 12\n",
      "{1: 1, 2: 4, 3: 9, 4: 16, 5: 25, 6: 36, 7: 49, 8: 64, 9: 81, 10: 100, 11: 121, 12: 144}\n"
     ]
    }
   ],
   "source": [
    "# Your code goes here\n",
    "Square = {}\n",
    "Number = int(input(\"Enter any number: \"))\n",
    "for i in range(1, Number + 1):\n",
    "    Square[i] = i * i\n",
    "print(Square)"
   ]
  },
  {
   "cell_type": "markdown",
   "id": "bd2b39a0",
   "metadata": {},
   "source": [
    "### Task17:\n",
    "You need to write a code which accepts a sequence of comma separated 4 digit binary numbers as its input and then check whether they are divisible by 5 or not. \n",
    "\n",
    "The numbers that are divisible by 5 are to be printed in a comma separated sequence.\n",
    "\n",
    "Example:\n",
    "\n",
    "0100,0011,1010,1001\n",
    "\n",
    "Then the output should be:\n",
    "1010\n",
    "\n",
    "Reference: \n",
    "1) https://www.datacamp.com/.../python-data-type-conversion\n",
    "\n",
    "2) https://stackoverflow.com/questions/21765779/converting-binary-to-decimal-integer-output?fbclid=IwAR3DD_oiq5pn99IjyxSJgojvB5W6M4JqQtv4EUl_IF_DtmuRXlP-DswcKAA"
   ]
  },
  {
   "cell_type": "code",
   "execution_count": 12,
   "id": "d88c2527",
   "metadata": {},
   "outputs": [
    {
     "name": "stdout",
     "output_type": "stream",
     "text": [
      "Enter binary number: 0100,0011,1010,1001\n",
      "1010,"
     ]
    }
   ],
   "source": [
    "# Your code goes here\n",
    "Binary = input(\"Enter binary number: \").split(\",\")\n",
    "for bins in Binary:\n",
    "    Decimal = int(bins, 2)\n",
    "    if Decimal%5 == 0:\n",
    "        print(bins,end=\",\")"
   ]
  },
  {
   "cell_type": "code",
   "execution_count": null,
   "id": "aab14430",
   "metadata": {},
   "outputs": [],
   "source": []
  }
 ],
 "metadata": {
  "kernelspec": {
   "display_name": "Python 3 (ipykernel)",
   "language": "python",
   "name": "python3"
  },
  "language_info": {
   "codemirror_mode": {
    "name": "ipython",
    "version": 3
   },
   "file_extension": ".py",
   "mimetype": "text/x-python",
   "name": "python",
   "nbconvert_exporter": "python",
   "pygments_lexer": "ipython3",
   "version": "3.9.7"
  }
 },
 "nbformat": 4,
 "nbformat_minor": 5
}
