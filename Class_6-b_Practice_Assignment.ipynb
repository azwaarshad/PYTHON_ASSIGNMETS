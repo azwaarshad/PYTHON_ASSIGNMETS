{
 "cells": [
  {
   "cell_type": "markdown",
   "id": "ac6f64a4",
   "metadata": {},
   "source": [
    "##### Task1: Mean \n",
    "Breifly decribe the term <b>Mean</b> (<i>dont write formula that sum of all numbers divide by total numbers) </i>\n",
    "Try to present some statistical view of mean(Average).\n",
    "You need to find the mean Average of the array(list). Not built-in function is allowed to use. \n",
    "\n",
    "Example : if user supplies a list [2,3,4,5,5,4,6,7,8,9]\n",
    "\n",
    "The output should be:\n",
    "\n",
    "The mean of the array [2,3,4,5,5,4,6,7,8,9] is 5.3"
   ]
  },
  {
   "cell_type": "markdown",
   "id": "04cb09d8",
   "metadata": {},
   "source": [
    "## MEAN:\n",
    "      The mean is the average or the most common value in a collection of numbers. In statistics, it is a measure of central tendency of a probability distribution along median and mode. It is also referred to as an expected value. It is a statistical concept that carries a major significance in finance."
   ]
  },
  {
   "cell_type": "code",
   "execution_count": 3,
   "id": "93002a67",
   "metadata": {},
   "outputs": [
    {
     "name": "stdout",
     "output_type": "stream",
     "text": [
      "The mean of the array [2,3,4,5,5,4,6,7,8,9] is: 5.3\n"
     ]
    }
   ],
   "source": [
    "#Your Code goes here\n",
    "Sums = 0\n",
    "i = 0\n",
    "List = [2,3,4,5,5,4,6,7,8,9]\n",
    "for num in List:\n",
    "    Sums = Sums + num\n",
    "    i = i + 1\n",
    "    \n",
    "Mean = Sums/i\n",
    "print(f\"The mean of the array [2,3,4,5,5,4,6,7,8,9] is: {Mean}\")"
   ]
  },
  {
   "cell_type": "markdown",
   "id": "52bedbb9",
   "metadata": {},
   "source": [
    "#### Task2: Median\n",
    "    \n",
    "Breifly decribe the term <b>Median</b> (<i>dont write mathematical formula</i>)\n",
    "\n",
    "You need to find the Median of the array(list). Not built-in function is allowed to use.\n",
    "\n",
    "Example : if user supplies a list [2,3,4,5,5,4,6,7,8,9]\n",
    "\n",
    "The output should be:\n",
    "\n",
    "The median of the array [2,3,4,5,5,4,6,7,8,9] is 5.\n",
    "    "
   ]
  },
  {
   "cell_type": "markdown",
   "id": "e7e12db3",
   "metadata": {},
   "source": [
    "## MEDIAN:\n",
    "     The statistical median is the middle number in a sequence of numbers. To find the median, organize each number in order by size; the number in the middle is the median."
   ]
  },
  {
   "cell_type": "code",
   "execution_count": 5,
   "id": "0f10f151",
   "metadata": {},
   "outputs": [
    {
     "name": "stdout",
     "output_type": "stream",
     "text": [
      "[2, 3, 4, 4, 5, 5, 6, 7, 8, 9]\n",
      "The median of the array is: 5\n"
     ]
    }
   ],
   "source": [
    "#Your code goes here \n",
    "List = [2,3,4,5,5,4,6,7,8,9]\n",
    "N = len(List)\n",
    "\n",
    "for X in range(len(List)):\n",
    "    for Y in range(X + 1,len(List)):\n",
    "        if List[X] > List[Y]:\n",
    "            List[X] , List[Y] = List[Y] , List[X]\n",
    "            \n",
    "print(List)\n",
    "\n",
    "if N%2 == 0:\n",
    "    Median_1 = List[N // 2]\n",
    "    Median_2 = List[N // 2 - 1]\n",
    "    Median = (Median_1 + Median_2)// 2\n",
    "else:\n",
    "    Median = List[N / 2]\n",
    "\n",
    "print(f\"The median of the array is: {Median}\")"
   ]
  },
  {
   "cell_type": "markdown",
   "id": "41484d7c",
   "metadata": {},
   "source": [
    "#### Task3: Mode \n",
    "Breifly decribe the term <b>Mode</b> (<i>dont write mathematical formula</i>)\n",
    "\n",
    "You need to find the Mode of the array(list). Not built-in function is allowed to use.\n",
    "\n",
    "Example : if user supplies a list [2,3,4,5,3,4,6,7,3,9]\n",
    "\n",
    "The output should be:\n",
    "\n",
    "The median of the array [2,3,4,5,3,4,6,7,8,3] is 3."
   ]
  },
  {
   "cell_type": "markdown",
   "id": "0bd6fb09",
   "metadata": {},
   "source": [
    "## MODE:\n",
    "      In statistics, the mode is the value that is repeatedly occurring in a given set."
   ]
  },
  {
   "cell_type": "code",
   "execution_count": 6,
   "id": "e34c18f9",
   "metadata": {},
   "outputs": [
    {
     "name": "stdout",
     "output_type": "stream",
     "text": [
      "[2, 3, 3, 3, 4, 4, 5, 6, 7, 9]\n",
      "The mode of the array is: [3]\n"
     ]
    }
   ],
   "source": [
    "# Your code goes here \n",
    "List = [2,3,4,5,3,4,6,7,3,9]\n",
    "List_up = []\n",
    "Mod = []\n",
    "\n",
    "for X in range(len(List)):\n",
    "    for Y in range(X + 1, len(List)):\n",
    "        if List[X] > List[Y]:\n",
    "            List[X] , List[Y] = List[Y] , List[X]\n",
    "            \n",
    "print(List)\n",
    "        \n",
    "for X in range(len(List)):\n",
    "    for Y in range(X + 1, len(List)):\n",
    "        if List[X] == List[Y]:\n",
    "            List_up.append(List[X])\n",
    "            break\n",
    "            \n",
    "for X in range(len(List_up)):\n",
    "    for Y in range(X + 1, len(List_up)):\n",
    "        if List_up[X] == List_up[Y]:  \n",
    "            Mod.append(List_up[X])\n",
    "            break\n",
    "            \n",
    "print(f\"The mode of the array is: {Mod}\")            "
   ]
  },
  {
   "cell_type": "markdown",
   "id": "ad6fee2a",
   "metadata": {},
   "source": [
    "#### Task4: Sorting an array in ascending order\n",
    "If user supplies an array(list) like arr = [5, 2, 8, 7, 1]. \n",
    "\n",
    "\n",
    "The output should be like:\n",
    "\n",
    "Elements of original array: \n",
    "5 2 8 7 1 \n",
    "\n",
    "Elements of array sorted in ascending order: \n",
    "1 2 5 7 8 \n",
    "\n",
    "Note: We need to write our own sorting algorithm using sort function of list is not acceptable."
   ]
  },
  {
   "cell_type": "code",
   "execution_count": 7,
   "id": "c857c8ba",
   "metadata": {},
   "outputs": [
    {
     "name": "stdout",
     "output_type": "stream",
     "text": [
      "[1, 2, 5, 7, 8]\n"
     ]
    }
   ],
   "source": [
    "#Your code goes here \n",
    "Arr = [5,2,8,7,1]\n",
    "\n",
    "for X in range(len(Arr)):\n",
    "    for Y in range(X + 1, len(Arr)):\n",
    "        if Arr[X] > Arr[Y]:\n",
    "            Arr[X] , Arr[Y] = Arr[Y] , Arr[X]\n",
    "            \n",
    "print(Arr)            "
   ]
  },
  {
   "cell_type": "markdown",
   "id": "b3134432",
   "metadata": {},
   "source": [
    "#### Task5: Sorting an array in descending order\n",
    "\n",
    "If user supplies an array(list) like arr = [5, 2, 8, 7, 1]. \n",
    "\n",
    "\n",
    "The output should be like:\n",
    "\n",
    "Elements of original array: \n",
    "5 2 8 7 1 \n",
    "\n",
    "Elements of array sorted in ascending order: \n",
    "8 7 5 2 1 \n",
    "\n",
    "Note: We need to write our own sorting algorithm. Using sort function of list is not acceptable.\n"
   ]
  },
  {
   "cell_type": "code",
   "execution_count": 1,
   "id": "70452f62",
   "metadata": {},
   "outputs": [
    {
     "name": "stdout",
     "output_type": "stream",
     "text": [
      "[8, 7, 5, 2, 1]\n"
     ]
    }
   ],
   "source": [
    "#Your code goes here \n",
    "Arr = [5,2,8,7,1]\n",
    "\n",
    "for X in range(len(Arr)):\n",
    "    for Y in range(X + 1, len(Arr)):\n",
    "        if Arr[X] < Arr[Y]:\n",
    "            Arr[X] , Arr[Y] = Arr[Y] , Arr[X]\n",
    "            \n",
    "print(Arr)            "
   ]
  },
  {
   "cell_type": "markdown",
   "id": "fe5691a5",
   "metadata": {},
   "source": [
    "#### Task6: Finding the max of the inputted array \n",
    "\n",
    "If user supplies an array(list) like arr = [5, 2, 8, 7, 1]. \n",
    "\n",
    "\n",
    "The output should be like:\n",
    "\n",
    "Max value in the array is 8\n",
    "\n",
    "Note: We need to write our own max algorithm. use of python max function is not acceptable. "
   ]
  },
  {
   "cell_type": "code",
   "execution_count": 19,
   "id": "89ab79e3",
   "metadata": {},
   "outputs": [
    {
     "name": "stdout",
     "output_type": "stream",
     "text": [
      "Enter numbers: 5,2,8,7,1\n",
      "Max value is: 8\n"
     ]
    }
   ],
   "source": [
    "# Your code goes here\n",
    "Arr = input(\"Enter numbers: \")\n",
    "List = [int(num) for num in Arr.split(',')]\n",
    "Max_Val = List[0]\n",
    "for i in List:\n",
    "    if i > Max_Val:\n",
    "        Max_Val = i\n",
    "print(f\"Max value is: {Max_Val}\")"
   ]
  },
  {
   "cell_type": "markdown",
   "id": "04c3bb05",
   "metadata": {},
   "source": [
    "#### Task7: Finding the min of the inputted array\n",
    "If user supplies an array(list) like arr = [5, 2, 8, 7, 1].\n",
    "\n",
    "The output should be like:\n",
    "\n",
    "Min value in the array is 1\n",
    "\n",
    "Note: We need to write our own min algorithm. use of python min function is not acceptable."
   ]
  },
  {
   "cell_type": "code",
   "execution_count": 18,
   "id": "e1de6b40",
   "metadata": {},
   "outputs": [
    {
     "name": "stdout",
     "output_type": "stream",
     "text": [
      "Enter numbers: 5,2,8,7,1\n",
      "Min value is: 1\n"
     ]
    }
   ],
   "source": [
    "#Your code goes here\n",
    "Arr = input(\"Enter numbers: \")\n",
    "List = [int(num) for num in Arr.split(',')]\n",
    "Min_Val = List[0]\n",
    "for i in List:\n",
    "    if i < Min_Val:\n",
    "        Min_Val = i\n",
    "print(f\"Min value is: {Min_Val}\")"
   ]
  },
  {
   "cell_type": "code",
   "execution_count": null,
   "id": "d92ddb9a",
   "metadata": {},
   "outputs": [],
   "source": []
  }
 ],
 "metadata": {
  "kernelspec": {
   "display_name": "Python 3 (ipykernel)",
   "language": "python",
   "name": "python3"
  },
  "language_info": {
   "codemirror_mode": {
    "name": "ipython",
    "version": 3
   },
   "file_extension": ".py",
   "mimetype": "text/x-python",
   "name": "python",
   "nbconvert_exporter": "python",
   "pygments_lexer": "ipython3",
   "version": "3.9.7"
  }
 },
 "nbformat": 4,
 "nbformat_minor": 5
}
